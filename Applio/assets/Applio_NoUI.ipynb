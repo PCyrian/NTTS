version https://git-lfs.github.com/spec/v1
oid sha256:53abe1f8fc600722bb816e7cc16d0a5b83a4f4cc462883ef803f4fca4cb97c54
size 39074
